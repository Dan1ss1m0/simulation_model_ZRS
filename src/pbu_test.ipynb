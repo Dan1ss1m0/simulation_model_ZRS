{
 "cells": [
  {
   "cell_type": "code",
   "execution_count": 1,
   "metadata": {},
   "outputs": [
    {
     "name": "stdout",
     "output_type": "stream",
     "text": [
      "initializing with empty field\n",
      "initializing with empty field\n",
      "(0, 0)\n",
      "None\n"
     ]
    }
   ],
   "source": [
    "from Environment import Environment\n",
    "\n",
    "environment = Environment(None)\n",
    "from Launcher import Launcher\n",
    "from pbu2 import Pbu\n",
    "\n",
    "launcher_pos = (0, 0, 0)\n",
    "missile_amount = 5\n",
    "pos = (50,50,50)\n",
    "add_distance = 1\n",
    "pbu = Pbu(None, add_distance)\n",
    "\n",
    "pbu.add_launchers(**dict(id=0, launcher_pos=launcher_pos, missile_amount=missile_amount))\n",
    "\n",
    "\n",
    "print(pbu.add_target(pos,environment))\n",
    "print(pbu.clear_exploded(0))\n"
   ]
  },
  {
   "cell_type": "code",
   "execution_count": null,
   "metadata": {},
   "outputs": [],
   "source": []
  }
 ],
 "metadata": {
  "kernelspec": {
   "display_name": "Python 3",
   "language": "python",
   "name": "python3"
  },
  "language_info": {
   "codemirror_mode": {
    "name": "ipython",
    "version": 3
   },
   "file_extension": ".py",
   "mimetype": "text/x-python",
   "name": "python",
   "nbconvert_exporter": "python",
   "pygments_lexer": "ipython3",
   "version": "3.8.5"
  }
 },
 "nbformat": 4,
 "nbformat_minor": 4
}
